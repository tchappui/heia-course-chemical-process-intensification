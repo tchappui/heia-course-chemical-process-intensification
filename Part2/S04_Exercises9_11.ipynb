{
  "nbformat": 4,
  "nbformat_minor": 0,
  "metadata": {
    "colab": {
      "name": "S04-Exercises9-11.ipynb",
      "version": "0.3.2",
      "provenance": [],
      "collapsed_sections": [],
      "include_colab_link": true
    },
    "kernelspec": {
      "name": "python3",
      "display_name": "Python 3"
    }
  },
  "cells": [
    {
      "cell_type": "markdown",
      "metadata": {
        "id": "view-in-github",
        "colab_type": "text"
      },
      "source": [
        "<a href=\"https://colab.research.google.com/github/tchappui/heia-course-chemical-process-intensification/blob/master/Part2/S04_Exercises9_11.ipynb\" target=\"_parent\"><img src=\"https://colab.research.google.com/assets/colab-badge.svg\" alt=\"Open In Colab\"/></a>"
      ]
    },
    {
      "metadata": {
        "id": "f0zwXUzqex8t",
        "colab_type": "text"
      },
      "cell_type": "markdown",
      "source": [
        "# Exercice 9"
      ]
    },
    {
      "metadata": {
        "id": "Nu5S9BJWEK6A",
        "colab_type": "code",
        "colab": {}
      },
      "cell_type": "code",
      "source": [
        "import numpy as np\n",
        "import pandas as pd\n",
        "import matplotlib.pyplot as plt\n",
        "\n",
        "from scipy.integrate import trapz, quad, cumtrapz\n",
        "from scipy.interpolate import interp1d\n",
        "\n",
        "import warnings\n",
        "warnings.filterwarnings('ignore')"
      ],
      "execution_count": 0,
      "outputs": []
    },
    {
      "metadata": {
        "id": "ImgzQEQEe29z",
        "colab_type": "text"
      },
      "cell_type": "markdown",
      "source": [
        "Pour organiser mes données, j'utilise un Dataframe Pandas, relativement agréable visuellement"
      ]
    },
    {
      "metadata": {
        "id": "4XZACf--GRm5",
        "colab_type": "code",
        "colab": {}
      },
      "cell_type": "code",
      "source": [
        "data = pd.DataFrame(\n",
        "    data = {\n",
        "        't': [0, 1, 2, 3, 4, 5, 6, 7, 8, 9, 10, 12, 14],\n",
        "        'C': [0, 1, 5, 8, 10, 8, 6, 4, 3, 2.2, 1.5, 0.6, 0]\n",
        "    }\n",
        ")\n",
        "\n",
        "data['E'] = data.C / trapz(x=data.t, y=data.C)"
      ],
      "execution_count": 0,
      "outputs": []
    },
    {
      "metadata": {
        "id": "BrYZYfY3Grgc",
        "colab_type": "code",
        "outputId": "7fab103b-a9f2-4f25-bf0c-bd575a1b3e5a",
        "colab": {
          "base_uri": "https://localhost:8080/",
          "height": 452
        }
      },
      "cell_type": "code",
      "source": [
        "data"
      ],
      "execution_count": 3,
      "outputs": [
        {
          "output_type": "execute_result",
          "data": {
            "text/html": [
              "<div>\n",
              "<style scoped>\n",
              "    .dataframe tbody tr th:only-of-type {\n",
              "        vertical-align: middle;\n",
              "    }\n",
              "\n",
              "    .dataframe tbody tr th {\n",
              "        vertical-align: top;\n",
              "    }\n",
              "\n",
              "    .dataframe thead th {\n",
              "        text-align: right;\n",
              "    }\n",
              "</style>\n",
              "<table border=\"1\" class=\"dataframe\">\n",
              "  <thead>\n",
              "    <tr style=\"text-align: right;\">\n",
              "      <th></th>\n",
              "      <th>C</th>\n",
              "      <th>t</th>\n",
              "      <th>E</th>\n",
              "    </tr>\n",
              "  </thead>\n",
              "  <tbody>\n",
              "    <tr>\n",
              "      <th>0</th>\n",
              "      <td>0.0</td>\n",
              "      <td>0</td>\n",
              "      <td>0.000000</td>\n",
              "    </tr>\n",
              "    <tr>\n",
              "      <th>1</th>\n",
              "      <td>1.0</td>\n",
              "      <td>1</td>\n",
              "      <td>0.019743</td>\n",
              "    </tr>\n",
              "    <tr>\n",
              "      <th>2</th>\n",
              "      <td>5.0</td>\n",
              "      <td>2</td>\n",
              "      <td>0.098717</td>\n",
              "    </tr>\n",
              "    <tr>\n",
              "      <th>3</th>\n",
              "      <td>8.0</td>\n",
              "      <td>3</td>\n",
              "      <td>0.157947</td>\n",
              "    </tr>\n",
              "    <tr>\n",
              "      <th>4</th>\n",
              "      <td>10.0</td>\n",
              "      <td>4</td>\n",
              "      <td>0.197433</td>\n",
              "    </tr>\n",
              "    <tr>\n",
              "      <th>5</th>\n",
              "      <td>8.0</td>\n",
              "      <td>5</td>\n",
              "      <td>0.157947</td>\n",
              "    </tr>\n",
              "    <tr>\n",
              "      <th>6</th>\n",
              "      <td>6.0</td>\n",
              "      <td>6</td>\n",
              "      <td>0.118460</td>\n",
              "    </tr>\n",
              "    <tr>\n",
              "      <th>7</th>\n",
              "      <td>4.0</td>\n",
              "      <td>7</td>\n",
              "      <td>0.078973</td>\n",
              "    </tr>\n",
              "    <tr>\n",
              "      <th>8</th>\n",
              "      <td>3.0</td>\n",
              "      <td>8</td>\n",
              "      <td>0.059230</td>\n",
              "    </tr>\n",
              "    <tr>\n",
              "      <th>9</th>\n",
              "      <td>2.2</td>\n",
              "      <td>9</td>\n",
              "      <td>0.043435</td>\n",
              "    </tr>\n",
              "    <tr>\n",
              "      <th>10</th>\n",
              "      <td>1.5</td>\n",
              "      <td>10</td>\n",
              "      <td>0.029615</td>\n",
              "    </tr>\n",
              "    <tr>\n",
              "      <th>11</th>\n",
              "      <td>0.6</td>\n",
              "      <td>12</td>\n",
              "      <td>0.011846</td>\n",
              "    </tr>\n",
              "    <tr>\n",
              "      <th>12</th>\n",
              "      <td>0.0</td>\n",
              "      <td>14</td>\n",
              "      <td>0.000000</td>\n",
              "    </tr>\n",
              "  </tbody>\n",
              "</table>\n",
              "</div>"
            ],
            "text/plain": [
              "       C   t         E\n",
              "0    0.0   0  0.000000\n",
              "1    1.0   1  0.019743\n",
              "2    5.0   2  0.098717\n",
              "3    8.0   3  0.157947\n",
              "4   10.0   4  0.197433\n",
              "5    8.0   5  0.157947\n",
              "6    6.0   6  0.118460\n",
              "7    4.0   7  0.078973\n",
              "8    3.0   8  0.059230\n",
              "9    2.2   9  0.043435\n",
              "10   1.5  10  0.029615\n",
              "11   0.6  12  0.011846\n",
              "12   0.0  14  0.000000"
            ]
          },
          "metadata": {
            "tags": []
          },
          "execution_count": 3
        }
      ]
    },
    {
      "metadata": {
        "id": "Id4CHrqiHKLG",
        "colab_type": "code",
        "colab": {}
      },
      "cell_type": "code",
      "source": [
        "E = interp1d(x=data.t, y=data.E, kind='slinear')"
      ],
      "execution_count": 0,
      "outputs": []
    },
    {
      "metadata": {
        "id": "LfXvRKhdHth0",
        "colab_type": "code",
        "colab": {}
      },
      "cell_type": "code",
      "source": [
        "ts = np.linspace(0, 14, 1000)\n",
        "Es = E(ts)"
      ],
      "execution_count": 0,
      "outputs": []
    },
    {
      "metadata": {
        "id": "fH0iR8cDH7BS",
        "colab_type": "code",
        "outputId": "fc4ba9da-271d-467f-f182-7ff81d66776e",
        "colab": {
          "base_uri": "https://localhost:8080/",
          "height": 347
        }
      },
      "cell_type": "code",
      "source": [
        "plt.plot(data['t'], data['E'], ts, Es)\n",
        "plt.show()"
      ],
      "execution_count": 6,
      "outputs": [
        {
          "output_type": "display_data",
          "data": {
            "image/png": "[encoded data removed]",
            "text/plain": [
              "<matplotlib.figure.Figure at 0x7fccbef1e940>"
            ]
          },
          "metadata": {
            "tags": []
          }
        }
      ]
    },
    {
      "metadata": {
        "id": "NPRvjffuIHK5",
        "colab_type": "code",
        "outputId": "d306ba39-d102-4f84-9936-1f50debc5f7c",
        "colab": {
          "base_uri": "https://localhost:8080/",
          "height": 34
        }
      },
      "cell_type": "code",
      "source": [
        "f_3_6, _ = quad(E, 3, 6)\n",
        "\n",
        "f_3_6 * 100"
      ],
      "execution_count": 7,
      "outputs": [
        {
          "output_type": "execute_result",
          "data": {
            "text/plain": [
              "49.358341559723584"
            ]
          },
          "metadata": {
            "tags": []
          },
          "execution_count": 7
        }
      ]
    },
    {
      "metadata": {
        "id": "xhtiFBTmJFTS",
        "colab_type": "code",
        "outputId": "81bb32c1-1612-4cbc-a293-cdbe138c6aaf",
        "colab": {
          "base_uri": "https://localhost:8080/",
          "height": 34
        }
      },
      "cell_type": "code",
      "source": [
        "f_775_825, _ = quad(E, 7.75, 8.25)\n",
        "\n",
        "f_775_825 * 100"
      ],
      "execution_count": 8,
      "outputs": [
        {
          "output_type": "execute_result",
          "data": {
            "text/plain": [
              "2.973840078973346"
            ]
          },
          "metadata": {
            "tags": []
          },
          "execution_count": 8
        }
      ]
    },
    {
      "metadata": {
        "id": "L2H9ifhvJkmQ",
        "colab_type": "code",
        "outputId": "477944ce-64c6-4742-cf21-98312d92d5e0",
        "colab": {
          "base_uri": "https://localhost:8080/",
          "height": 34
        }
      },
      "cell_type": "code",
      "source": [
        "f_less_than_3, _ = quad(E, 0, 3)\n",
        "\n",
        "f_less_than_3 * 100"
      ],
      "execution_count": 9,
      "outputs": [
        {
          "output_type": "execute_result",
          "data": {
            "text/plain": [
              "19.743336623889434"
            ]
          },
          "metadata": {
            "tags": []
          },
          "execution_count": 9
        }
      ]
    },
    {
      "metadata": {
        "id": "rERwsCyCehPP",
        "colab_type": "text"
      },
      "cell_type": "markdown",
      "source": [
        "## Exercice 10"
      ]
    },
    {
      "metadata": {
        "id": "UUxCJyNRJx3_",
        "colab_type": "code",
        "colab": {}
      },
      "cell_type": "code",
      "source": [
        "F = [quad(E, 0, t)[0] for t in data.t] # possible également d'utiliser cumtrapz\n",
        "F_with_cumtrapz = cumtrapz(x=data.t, y=data.E)"
      ],
      "execution_count": 0,
      "outputs": []
    },
    {
      "metadata": {
        "id": "5RzR1oNMekVG",
        "colab_type": "text"
      },
      "cell_type": "markdown",
      "source": [
        "## Exercice 11"
      ]
    },
    {
      "metadata": {
        "id": "bTseqRRyFQVF",
        "colab_type": "code",
        "outputId": "c87caa5a-91da-43e6-a1db-c5c2019586ac",
        "colab": {
          "base_uri": "https://localhost:8080/",
          "height": 34
        }
      },
      "cell_type": "code",
      "source": [
        "tm = trapz(x=data.t, y=data.t * data.E) \n",
        "tm"
      ],
      "execution_count": 11,
      "outputs": [
        {
          "output_type": "execute_result",
          "data": {
            "text/plain": [
              "5.127344521224086"
            ]
          },
          "metadata": {
            "tags": []
          },
          "execution_count": 11
        }
      ]
    },
    {
      "metadata": {
        "id": "MVhlNSTNHCiH",
        "colab_type": "code",
        "outputId": "9279e37b-a48c-43a6-ab5d-ca67c34e6e2b",
        "colab": {
          "base_uri": "https://localhost:8080/",
          "height": 34
        }
      },
      "cell_type": "code",
      "source": [
        "sigma2 = trapz(x=data.t, y=(data.t-tm)**2 * data.E)\n",
        "sigma2"
      ],
      "execution_count": 12,
      "outputs": [
        {
          "output_type": "execute_result",
          "data": {
            "text/plain": [
              "5.95120686748479"
            ]
          },
          "metadata": {
            "tags": []
          },
          "execution_count": 12
        }
      ]
    },
    {
      "metadata": {
        "id": "czZdlJDBHS3u",
        "colab_type": "code",
        "colab": {}
      },
      "cell_type": "code",
      "source": [
        "s3 = sigma2**(-3/4) * trapz(x=data.t, y=(data.t-tm)**3 * data.E)"
      ],
      "execution_count": 0,
      "outputs": []
    },
    {
      "metadata": {
        "id": "0tnxG3fmOOYx",
        "colab_type": "code",
        "colab": {}
      },
      "cell_type": "code",
      "source": [
        ""
      ],
      "execution_count": 0,
      "outputs": []
    }
  ]
}