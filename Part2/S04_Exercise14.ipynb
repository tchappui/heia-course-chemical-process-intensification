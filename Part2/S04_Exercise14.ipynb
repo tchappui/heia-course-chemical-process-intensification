{
  "nbformat": 4,
  "nbformat_minor": 0,
  "metadata": {
    "colab": {
      "name": "S04-Exercise14.ipynb",
      "version": "0.3.2",
      "provenance": [],
      "include_colab_link": true
    },
    "kernelspec": {
      "name": "python3",
      "display_name": "Python 3"
    }
  },
  "cells": [
    {
      "cell_type": "markdown",
      "metadata": {
        "id": "view-in-github",
        "colab_type": "text"
      },
      "source": [
        "<a href=\"https://colab.research.google.com/github/tchappui/heia-course-chemical-process-intensification/blob/master/Part2/S04_Exercise14.ipynb\" target=\"_parent\"><img src=\"https://colab.research.google.com/assets/colab-badge.svg\" alt=\"Open In Colab\"/></a>"
      ]
    },
    {
      "metadata": {
        "id": "KyBS8Ve4Vr4A",
        "colab_type": "text"
      },
      "cell_type": "markdown",
      "source": [
        "# S04 - Exercise 14"
      ]
    },
    {
      "metadata": {
        "id": "r-K7ItsMM4Ls",
        "colab_type": "code",
        "colab": {}
      },
      "cell_type": "code",
      "source": [
        "import numpy as np\n",
        "import scipy.integrate as solvers"
      ],
      "execution_count": 0,
      "outputs": []
    },
    {
      "metadata": {
        "id": "PToNANNXV0-K",
        "colab_type": "text"
      },
      "cell_type": "markdown",
      "source": [
        "## Solve the system for a batch well-mixed reactor for find X(t)"
      ]
    },
    {
      "metadata": {
        "id": "LNKmClVoM_6D",
        "colab_type": "text"
      },
      "cell_type": "markdown",
      "source": [
        "Define the constants"
      ]
    },
    {
      "metadata": {
        "id": "oXr_15cJM-yK",
        "colab_type": "code",
        "colab": {}
      },
      "cell_type": "code",
      "source": [
        "k = 0.1 # 1/min\n",
        "CA0 = 3 # mol/L\n",
        "X0 = 0 # -"
      ],
      "execution_count": 0,
      "outputs": []
    },
    {
      "metadata": {
        "id": "E-FQumJWNu2W",
        "colab_type": "text"
      },
      "cell_type": "markdown",
      "source": [
        "Define the balance equations"
      ]
    },
    {
      "metadata": {
        "id": "oYvE2N7qNJM9",
        "colab_type": "code",
        "colab": {}
      },
      "cell_type": "code",
      "source": [
        "def equations(y, t, k, CA0):\n",
        "    X = y\n",
        "    \n",
        "    CA = CA0 * (1 - X)\n",
        "    r = k * CA\n",
        "    RA = -r\n",
        "    \n",
        "    dX = - RA / CA0\n",
        "    \n",
        "    return dX"
      ],
      "execution_count": 0,
      "outputs": []
    },
    {
      "metadata": {
        "id": "t9iceibnN0PY",
        "colab_type": "text"
      },
      "cell_type": "markdown",
      "source": [
        "Define the initial conditions and integration range"
      ]
    },
    {
      "metadata": {
        "id": "ez8KicYeNzsf",
        "colab_type": "code",
        "colab": {}
      },
      "cell_type": "code",
      "source": [
        "y0 = [X0]\n",
        "\n",
        "t = np.linspace(0, 2000, 20001)"
      ],
      "execution_count": 0,
      "outputs": []
    },
    {
      "metadata": {
        "id": "01OhpadPOff6",
        "colab_type": "text"
      },
      "cell_type": "markdown",
      "source": [
        "We integrate the equation"
      ]
    },
    {
      "metadata": {
        "id": "BmZ1OtIYNsEk",
        "colab_type": "code",
        "colab": {}
      },
      "cell_type": "code",
      "source": [
        "results = solvers.odeint(equations, y0, t, (k, CA0))"
      ],
      "execution_count": 0,
      "outputs": []
    },
    {
      "metadata": {
        "id": "9daBCscJOcMh",
        "colab_type": "code",
        "colab": {}
      },
      "cell_type": "code",
      "source": [
        "X = results[:, 0]"
      ],
      "execution_count": 0,
      "outputs": []
    },
    {
      "metadata": {
        "id": "AWxhEaV7OqHV",
        "colab_type": "text"
      },
      "cell_type": "markdown",
      "source": [
        "## For the CSTR reactor:"
      ]
    },
    {
      "metadata": {
        "id": "vtqLnj5yOlGo",
        "colab_type": "code",
        "colab": {}
      },
      "cell_type": "code",
      "source": [
        "tau_CSTR = 10 # min\n"
      ],
      "execution_count": 0,
      "outputs": []
    },
    {
      "metadata": {
        "id": "8kdeLz4gP7rK",
        "colab_type": "code",
        "colab": {}
      },
      "cell_type": "code",
      "source": [
        "def E_CSTR(t, tau):\n",
        "    return np.exp(-t/tau) / tau"
      ],
      "execution_count": 0,
      "outputs": []
    },
    {
      "metadata": {
        "id": "AuDDBVO2QN9c",
        "colab_type": "code",
        "outputId": "7dd71d2b-2db1-4a01-fc4b-51a6b16f0536",
        "colab": {
          "base_uri": "https://localhost:8080/",
          "height": 34
        }
      },
      "cell_type": "code",
      "source": [
        "Xmean_CSTR = np.trapz(x=t, y=X * E_CSTR(t, tau_CSTR))\n",
        "Xmean_CSTR"
      ],
      "execution_count": 0,
      "outputs": [
        {
          "output_type": "execute_result",
          "data": {
            "text/plain": [
              "0.4999916643725182"
            ]
          },
          "metadata": {
            "tags": []
          },
          "execution_count": 9
        }
      ]
    },
    {
      "metadata": {
        "id": "FG3dJimFQRfJ",
        "colab_type": "code",
        "outputId": "705c62cc-2dc3-4f6a-ad2f-79e816c7b0c9",
        "colab": {
          "base_uri": "https://localhost:8080/",
          "height": 34
        }
      },
      "cell_type": "code",
      "source": [
        "tau_CSTR * k / (1 + tau_CSTR * k)"
      ],
      "execution_count": 0,
      "outputs": [
        {
          "output_type": "execute_result",
          "data": {
            "text/plain": [
              "0.5"
            ]
          },
          "metadata": {
            "tags": []
          },
          "execution_count": 10
        }
      ]
    },
    {
      "metadata": {
        "id": "BEu7MghUT_87",
        "colab_type": "text"
      },
      "cell_type": "markdown",
      "source": [
        "## For the LFR"
      ]
    },
    {
      "metadata": {
        "id": "T4Uyk-HfUCu5",
        "colab_type": "code",
        "colab": {}
      },
      "cell_type": "code",
      "source": [
        "tau_LFR = 10 # min"
      ],
      "execution_count": 0,
      "outputs": []
    },
    {
      "metadata": {
        "id": "HW5Xt2Z0QZ4V",
        "colab_type": "code",
        "colab": {}
      },
      "cell_type": "code",
      "source": [
        "def E_LFR(t, tau):\n",
        "    rtd = tau**2 / 2 / t**3\n",
        "    rtd[t < tau/2] = 0\n",
        "    return rtd"
      ],
      "execution_count": 0,
      "outputs": []
    },
    {
      "metadata": {
        "id": "mgdGeRaEUFFs",
        "colab_type": "code",
        "outputId": "7f0d7748-f36d-4a59-fd30-2c0bb4385714",
        "colab": {
          "base_uri": "https://localhost:8080/",
          "height": 68
        }
      },
      "cell_type": "code",
      "source": [
        "Xmean_LFR = np.trapz(x=t, y=X * E_LFR(t, tau_LFR))\n",
        "Xmean_LFR"
      ],
      "execution_count": 0,
      "outputs": [
        {
          "output_type": "stream",
          "text": [
            "/usr/local/lib/python3.6/dist-packages/ipykernel_launcher.py:2: RuntimeWarning: divide by zero encountered in true_divide\n",
            "  \n"
          ],
          "name": "stderr"
        },
        {
          "output_type": "execute_result",
          "data": {
            "text/plain": [
              "0.5647128710431095"
            ]
          },
          "metadata": {
            "tags": []
          },
          "execution_count": 13
        }
      ]
    },
    {
      "metadata": {
        "id": "erulY5m9VE9y",
        "colab_type": "text"
      },
      "cell_type": "markdown",
      "source": [
        "## For a PFR"
      ]
    },
    {
      "metadata": {
        "id": "IanaEwAMU15A",
        "colab_type": "code",
        "outputId": "0ec18484-5ca7-4e3e-e6e0-9852d48bb912",
        "colab": {
          "base_uri": "https://localhost:8080/",
          "height": 34
        }
      },
      "cell_type": "code",
      "source": [
        "tau_PFR = 10 #min\n",
        "X[t == tau_PFR][0]"
      ],
      "execution_count": 0,
      "outputs": [
        {
          "output_type": "execute_result",
          "data": {
            "text/plain": [
              "0.6321205463222435"
            ]
          },
          "metadata": {
            "tags": []
          },
          "execution_count": 14
        }
      ]
    },
    {
      "metadata": {
        "id": "VzYgGkiOVRne",
        "colab_type": "code",
        "colab": {}
      },
      "cell_type": "code",
      "source": [
        ""
      ],
      "execution_count": 0,
      "outputs": []
    }
  ]
}