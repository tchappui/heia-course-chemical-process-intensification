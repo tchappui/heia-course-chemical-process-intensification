{
  "nbformat": 4,
  "nbformat_minor": 0,
  "metadata": {
    "colab": {
      "name": "S04_Exercise5.ipynb",
      "version": "0.3.2",
      "provenance": [],
      "collapsed_sections": [],
      "include_colab_link": true
    },
    "kernelspec": {
      "name": "python3",
      "display_name": "Python 3"
    }
  },
  "cells": [
    {
      "cell_type": "markdown",
      "metadata": {
        "id": "view-in-github",
        "colab_type": "text"
      },
      "source": [
        "[View in Colaboratory](https://colab.research.google.com/github/tchappui/heia-course-chemical-process-intensification/blob/master/Part1/S04_Exercise5.ipynb)"
      ]
    },
    {
      "metadata": {
        "id": "bloo9Yn5u9jE",
        "colab_type": "text"
      },
      "cell_type": "markdown",
      "source": [
        "# S04 Exercise 5"
      ]
    },
    {
      "metadata": {
        "id": "KvwjqQnNvCuz",
        "colab_type": "text"
      },
      "cell_type": "markdown",
      "source": [
        "## Importation of the needed libraries"
      ]
    },
    {
      "metadata": {
        "id": "JxyQ_4ZJvG7P",
        "colab_type": "code",
        "colab": {}
      },
      "cell_type": "code",
      "source": [
        "# vectors and linear algebra\n",
        "import numpy as np\n",
        "\n",
        "# visualization tools\n",
        "import matplotlib.pyplot as plt\n",
        "\n",
        "# solvers to integrate ordinary differential equations\n",
        "import scipy.integrate as solvers\n",
        "\n",
        "from math import exp"
      ],
      "execution_count": 0,
      "outputs": []
    },
    {
      "metadata": {
        "id": "GjnNi-eTvMh6",
        "colab_type": "text"
      },
      "cell_type": "markdown",
      "source": [
        "## Definition of the constants"
      ]
    },
    {
      "metadata": {
        "id": "3uM4dswEu6ow",
        "colab_type": "code",
        "colab": {}
      },
      "cell_type": "code",
      "source": [
        "R = 8.314\n",
        "Ea = 65700 # J/mol\n",
        "T0 = 310 # K\n",
        "Tj = 310 # K\n",
        "CA0 = 9.3 # kmol/m3\n",
        "FA0 = 16.3 * 0.9 # kmol/h\n",
        "FAI = 16.3 * 0.1 # kmol/mh\n",
        "Delta_HR = -6900 # J/(mole de butane)\n",
        "cp_A = 141 # J/mol*K\n",
        "cp_I = 161 # J/mol*K\n",
        "Ua = 5000 # kJ/m3*h*K\n",
        "k1 = 31.1 # h-1\n",
        "Kc2 = 3.03 # -\n",
        "T1 = 360 # K\n",
        "T2 = 333 # K\n",
        "cp_0 = cp_A + 0.1/0.9 * cp_I # J/mol*K"
      ],
      "execution_count": 0,
      "outputs": []
    },
    {
      "metadata": {
        "id": "fJsd-f1xvPX_",
        "colab_type": "text"
      },
      "cell_type": "markdown",
      "source": [
        "## Definition of the balance equations"
      ]
    },
    {
      "metadata": {
        "id": "8Qi0zXVFvKK7",
        "colab_type": "code",
        "colab": {}
      },
      "cell_type": "code",
      "source": [
        "def balances(variables, V, k1, Kc2, T1, T2, Ea, CA0, FA0, Delta_HR, Ua, Tj, cp_0):\n",
        "    X, T = variables\n",
        "\n",
        "    k = k1 * exp(Ea/R * (1/T1 - 1/T))\n",
        "    Kc = Kc2 * exp(Delta_HR/R * (1/T2 - 1/T))\n",
        "    \n",
        "    r1 = k * CA0 * (1 - X)\n",
        "    r2 = (k/Kc) * CA0 * X\n",
        "    \n",
        "    RA = -r1 + r2\n",
        "\n",
        "    dX = -RA / FA0\n",
        "    dT = ((-Delta_HR) * (r1-r2) +  Ua * (Tj - T)) / FA0 / cp_0\n",
        "\n",
        "    return dX, dT"
      ],
      "execution_count": 0,
      "outputs": []
    },
    {
      "metadata": {
        "id": "-E9xkUJUw0aH",
        "colab_type": "text"
      },
      "cell_type": "markdown",
      "source": [
        "## Initial conditions and integration range"
      ]
    },
    {
      "metadata": {
        "id": "Fw1I4-xSww7d",
        "colab_type": "code",
        "colab": {}
      },
      "cell_type": "code",
      "source": [
        "initial_conditions = [0, T0]"
      ],
      "execution_count": 0,
      "outputs": []
    },
    {
      "metadata": {
        "id": "txnWoXb2xBgv",
        "colab_type": "code",
        "colab": {}
      },
      "cell_type": "code",
      "source": [
        "V = np.arange(0, 6, 0.001)"
      ],
      "execution_count": 0,
      "outputs": []
    },
    {
      "metadata": {
        "id": "QbH4GSF3xIY4",
        "colab_type": "code",
        "colab": {}
      },
      "cell_type": "code",
      "source": [
        "results = solvers.odeint(\n",
        "    balances, \n",
        "    initial_conditions, \n",
        "    V, \n",
        "    (k1, Kc2, T1, T2, Ea, CA0, FA0, Delta_HR, Ua, Tj, cp_0)\n",
        ")"
      ],
      "execution_count": 0,
      "outputs": []
    },
    {
      "metadata": {
        "id": "ZZhWuInnxUfC",
        "colab_type": "code",
        "colab": {}
      },
      "cell_type": "code",
      "source": [
        "X = results[:,0]\n",
        "T = results[:,1]"
      ],
      "execution_count": 0,
      "outputs": []
    },
    {
      "metadata": {
        "id": "Vg2eBVjK0Z-Y",
        "colab_type": "code",
        "colab": {
          "base_uri": "https://localhost:8080/",
          "height": 361
        },
        "outputId": "89bde295-d306-4881-a298-5a3e58484c3a"
      },
      "cell_type": "code",
      "source": [
        "plt.plot(V, X)\n",
        "plt.xlabel('V (L)')\n",
        "plt.ylabel('X (-)')\n",
        "plt.show()"
      ],
      "execution_count": 8,
      "outputs": [
        {
          "output_type": "display_data",
          "data": {
            "image/png": "[encoded data removed]",
            "text/plain": [
              "<matplotlib.figure.Figure at 0x7fd771694d30>"
            ]
          },
          "metadata": {
            "tags": []
          }
        }
      ]
    },
    {
      "metadata": {
        "id": "iooMgOG30i5f",
        "colab_type": "code",
        "colab": {
          "base_uri": "https://localhost:8080/",
          "height": 361
        },
        "outputId": "dac9f8d1-9373-4443-cc85-b5636b0b4272"
      },
      "cell_type": "code",
      "source": [
        "plt.plot(V, T - 273.15)\n",
        "plt.xlabel('V (L)')\n",
        "plt.ylabel('T (°C)')\n",
        "plt.show()"
      ],
      "execution_count": 9,
      "outputs": [
        {
          "output_type": "display_data",
          "data": {
            "image/png": "[encoded data removed]",
            "text/plain": [
              "<matplotlib.figure.Figure at 0x7fd771655400>"
            ]
          },
          "metadata": {
            "tags": []
          }
        }
      ]
    },
    {
      "metadata": {
        "id": "oN4STTzt0qFi",
        "colab_type": "code",
        "colab": {}
      },
      "cell_type": "code",
      "source": [
        ""
      ],
      "execution_count": 0,
      "outputs": []
    }
  ]
}