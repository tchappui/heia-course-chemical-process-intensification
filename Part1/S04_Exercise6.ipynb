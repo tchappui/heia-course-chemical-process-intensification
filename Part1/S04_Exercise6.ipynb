{
  "nbformat": 4,
  "nbformat_minor": 0,
  "metadata": {
    "colab": {
      "name": "S04_Exercise6.ipynb",
      "version": "0.3.2",
      "provenance": [],
      "collapsed_sections": [],
      "include_colab_link": true
    },
    "kernelspec": {
      "name": "python3",
      "display_name": "Python 3"
    }
  },
  "cells": [
    {
      "cell_type": "markdown",
      "metadata": {
        "id": "view-in-github",
        "colab_type": "text"
      },
      "source": [
        "[View in Colaboratory](https://colab.research.google.com/github/tchappui/heia-course-chemical-process-intensification/blob/master/Part1/S04_Exercise6.ipynb)"
      ]
    },
    {
      "metadata": {
        "id": "bloo9Yn5u9jE",
        "colab_type": "text"
      },
      "cell_type": "markdown",
      "source": [
        "# S04 Exercise 6"
      ]
    },
    {
      "metadata": {
        "id": "KvwjqQnNvCuz",
        "colab_type": "text"
      },
      "cell_type": "markdown",
      "source": [
        "## Importation of the needed libraries"
      ]
    },
    {
      "metadata": {
        "id": "JxyQ_4ZJvG7P",
        "colab_type": "code",
        "colab": {}
      },
      "cell_type": "code",
      "source": [
        "# vectors and linear algebra\n",
        "import numpy as np\n",
        "\n",
        "# visualization tools\n",
        "import matplotlib.pyplot as plt\n",
        "\n",
        "# solvers to integrate ordinary differential equations\n",
        "import scipy.integrate as solvers"
      ],
      "execution_count": 0,
      "outputs": []
    },
    {
      "metadata": {
        "id": "GjnNi-eTvMh6",
        "colab_type": "text"
      },
      "cell_type": "markdown",
      "source": [
        "## Definition of the constants"
      ]
    },
    {
      "metadata": {
        "id": "3uM4dswEu6ow",
        "colab_type": "code",
        "colab": {}
      },
      "cell_type": "code",
      "source": [
        "P0 = 10 # atm\n",
        "CA0 = 0.2 #  mol/L\n",
        "FA0 = 2 # mol/min\n",
        "alpha = 0.0099 # 1/kg\n",
        "epsilon = 0; \n",
        "k = 1.5 # L/mol/kg/min"
      ],
      "execution_count": 0,
      "outputs": []
    },
    {
      "metadata": {
        "id": "fJsd-f1xvPX_",
        "colab_type": "text"
      },
      "cell_type": "markdown",
      "source": [
        "## Definition of the balance equations"
      ]
    },
    {
      "metadata": {
        "id": "8Qi0zXVFvKK7",
        "colab_type": "code",
        "colab": {}
      },
      "cell_type": "code",
      "source": [
        "def balances(variables, W, k, CA0, FA0, epsilon, alpha):\n",
        "    X, y = variables\n",
        "    \n",
        "    # y = sqrt(1 - alpha * W);\n",
        "\n",
        "    CA = CA0 * (1 - X) / (1 + epsilon * X) * y\n",
        "    CB = CA0 * (1 - X) / (1 + epsilon * X) * y\n",
        "\n",
        "    r = k * CA * CB\n",
        "    RA = -r\n",
        "\n",
        "    dX = -RA / FA0\n",
        "    dy = -(alpha / 2 / y) * (1 + epsilon * X)\n",
        "\n",
        "    return dX, dy"
      ],
      "execution_count": 0,
      "outputs": []
    },
    {
      "metadata": {
        "id": "-E9xkUJUw0aH",
        "colab_type": "text"
      },
      "cell_type": "markdown",
      "source": [
        "## Initial conditions and integration range"
      ]
    },
    {
      "metadata": {
        "id": "Fw1I4-xSww7d",
        "colab_type": "code",
        "colab": {}
      },
      "cell_type": "code",
      "source": [
        "initial_conditions = [0, 1] # [X0 y0]"
      ],
      "execution_count": 0,
      "outputs": []
    },
    {
      "metadata": {
        "id": "txnWoXb2xBgv",
        "colab_type": "code",
        "colab": {}
      },
      "cell_type": "code",
      "source": [
        "W = np.arange(0, 100, 0.1)"
      ],
      "execution_count": 0,
      "outputs": []
    },
    {
      "metadata": {
        "id": "QbH4GSF3xIY4",
        "colab_type": "code",
        "colab": {}
      },
      "cell_type": "code",
      "source": [
        "results = solvers.odeint(\n",
        "    balances, \n",
        "    initial_conditions, \n",
        "    W, \n",
        "    (k, CA0, FA0, epsilon, alpha)\n",
        ")"
      ],
      "execution_count": 0,
      "outputs": []
    },
    {
      "metadata": {
        "id": "ZZhWuInnxUfC",
        "colab_type": "code",
        "colab": {}
      },
      "cell_type": "code",
      "source": [
        "X = results[:,0]\n",
        "P = results[:,1] * P0"
      ],
      "execution_count": 0,
      "outputs": []
    },
    {
      "metadata": {
        "id": "Vg2eBVjK0Z-Y",
        "colab_type": "code",
        "colab": {
          "base_uri": "https://localhost:8080/",
          "height": 361
        },
        "outputId": "8e8152df-8a7a-473a-aced-f2286ce6558a"
      },
      "cell_type": "code",
      "source": [
        "plt.plot(W, X)\n",
        "plt.xlabel('W (kg-cat)')\n",
        "plt.ylabel('X (-)')\n",
        "plt.show()"
      ],
      "execution_count": 8,
      "outputs": [
        {
          "output_type": "display_data",
          "data": {
            "image/png": "[encoded data removed]",
            "text/plain": [
              "<matplotlib.figure.Figure at 0x7f1737b48978>"
            ]
          },
          "metadata": {
            "tags": []
          }
        }
      ]
    },
    {
      "metadata": {
        "id": "iooMgOG30i5f",
        "colab_type": "code",
        "colab": {
          "base_uri": "https://localhost:8080/",
          "height": 361
        },
        "outputId": "9fdc45ec-2ce9-4dc5-f5db-3bfb84d1c997"
      },
      "cell_type": "code",
      "source": [
        "plt.plot(W, P)\n",
        "plt.xlabel('W (kg-cat)')\n",
        "plt.ylabel('P (atm)')\n",
        "plt.show()"
      ],
      "execution_count": 9,
      "outputs": [
        {
          "output_type": "display_data",
          "data": {
            "image/png": "[encoded data removed]",
            "text/plain": [
              "<matplotlib.figure.Figure at 0x7f1737b54e48>"
            ]
          },
          "metadata": {
            "tags": []
          }
        }
      ]
    },
    {
      "metadata": {
        "id": "oN4STTzt0qFi",
        "colab_type": "code",
        "colab": {}
      },
      "cell_type": "code",
      "source": [
        ""
      ],
      "execution_count": 0,
      "outputs": []
    }
  ]
}