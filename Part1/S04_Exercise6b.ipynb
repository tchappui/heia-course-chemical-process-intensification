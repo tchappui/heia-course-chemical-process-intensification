{
  "nbformat": 4,
  "nbformat_minor": 0,
  "metadata": {
    "colab": {
      "name": "S04_Exercise6b.ipynb",
      "version": "0.3.2",
      "provenance": [],
      "collapsed_sections": [],
      "include_colab_link": true
    },
    "kernelspec": {
      "name": "python3",
      "display_name": "Python 3"
    }
  },
  "cells": [
    {
      "cell_type": "markdown",
      "metadata": {
        "id": "view-in-github",
        "colab_type": "text"
      },
      "source": [
        "<a href=\"https://colab.research.google.com/github/tchappui/heia-course-chemical-process-intensification/blob/master/Part1/S04_Exercise6b.ipynb\" target=\"_parent\"><img src=\"https://colab.research.google.com/assets/colab-badge.svg\" alt=\"Open In Colab\"/></a>"
      ]
    },
    {
      "metadata": {
        "id": "bloo9Yn5u9jE",
        "colab_type": "text"
      },
      "cell_type": "markdown",
      "source": [
        "# S04 Exercise 6b\n",
        "\n",
        "Same as exercise 6 but a generalized solving path was used to find the solution. This generalized solving path is adapted for cases where several chemical reactions occur in parallel in the reaction mixture."
      ]
    },
    {
      "metadata": {
        "id": "KvwjqQnNvCuz",
        "colab_type": "text"
      },
      "cell_type": "markdown",
      "source": [
        "## Importation of the needed libraries"
      ]
    },
    {
      "metadata": {
        "id": "JxyQ_4ZJvG7P",
        "colab_type": "code",
        "colab": {}
      },
      "cell_type": "code",
      "source": [
        "# vectors and linear algebra\n",
        "import numpy as np\n",
        "\n",
        "# visualization tools\n",
        "import matplotlib.pyplot as plt\n",
        "\n",
        "# solvers to integrate ordinary differential equations\n",
        "import scipy.integrate as solvers"
      ],
      "execution_count": 0,
      "outputs": []
    },
    {
      "metadata": {
        "id": "GjnNi-eTvMh6",
        "colab_type": "text"
      },
      "cell_type": "markdown",
      "source": [
        "## Definition of the constants"
      ]
    },
    {
      "metadata": {
        "id": "3uM4dswEu6ow",
        "colab_type": "code",
        "colab": {}
      },
      "cell_type": "code",
      "source": [
        "R = 0.0821 # L * atm/mol * K\n",
        "P0 = 10 # atm\n",
        "\n",
        "CA0 = 0.2 #  mol/L\n",
        "CB0 = 0.2 #  mol/L\n",
        "CC0 = 0 #  mol/L\n",
        "CT0 = 0.4 #  mol/L\n",
        "\n",
        "T0 = P0 / R / CT0 # K\n",
        "\n",
        "FA0 = 2 # mol/min\n",
        "FB0 = FA0 # mol/min\n",
        "FC0 = 0 # mol/min\n",
        "FT0 = FA0 + FB0 + FC0 # mol/min\n",
        "\n",
        "alpha = 0.0099 # 1/kg\n",
        "k = 1.5 # L/mol/kg/min"
      ],
      "execution_count": 0,
      "outputs": []
    },
    {
      "metadata": {
        "id": "fJsd-f1xvPX_",
        "colab_type": "text"
      },
      "cell_type": "markdown",
      "source": [
        "## Definition of the balance equations"
      ]
    },
    {
      "metadata": {
        "id": "8Qi0zXVFvKK7",
        "colab_type": "code",
        "colab": {}
      },
      "cell_type": "code",
      "source": [
        "def balances(variables, W):\n",
        "    FA, FB, FC, y = variables\n",
        "    \n",
        "    P = y * P0\n",
        "    CT = P / R / T0\n",
        "    FT = FA + FB + FC\n",
        "    \n",
        "    CA = CT * FA / FT\n",
        "    CB = CT * FB / FT\n",
        "    CC = CT * FC / FT\n",
        "\n",
        "    r = k * CA * CB\n",
        "    RA = -r\n",
        "    RB = -r\n",
        "    RC = 2 * r\n",
        "\n",
        "    dFA = RA\n",
        "    dFB = RB\n",
        "    dFC = RC\n",
        "    dy = -(alpha / 2 / y) * (T0 / T0) * FT / FT0\n",
        "\n",
        "    return dFA, dFB, dFC, dy"
      ],
      "execution_count": 0,
      "outputs": []
    },
    {
      "metadata": {
        "id": "-E9xkUJUw0aH",
        "colab_type": "text"
      },
      "cell_type": "markdown",
      "source": [
        "## Initial conditions and integration range"
      ]
    },
    {
      "metadata": {
        "id": "Fw1I4-xSww7d",
        "colab_type": "code",
        "colab": {}
      },
      "cell_type": "code",
      "source": [
        "initial_conditions = [FA0, FB0, FC0, 1] # [FA0, FB0, FC0, y0]"
      ],
      "execution_count": 0,
      "outputs": []
    },
    {
      "metadata": {
        "id": "txnWoXb2xBgv",
        "colab_type": "code",
        "colab": {}
      },
      "cell_type": "code",
      "source": [
        "W = np.arange(0, 100, 0.1)"
      ],
      "execution_count": 0,
      "outputs": []
    },
    {
      "metadata": {
        "id": "QbH4GSF3xIY4",
        "colab_type": "code",
        "colab": {}
      },
      "cell_type": "code",
      "source": [
        "results = solvers.odeint(\n",
        "    balances, \n",
        "    initial_conditions, \n",
        "    W,\n",
        "    (alpha,)\n",
        ")\n",
        "\n",
        "results2 = solvers.odeint(\n",
        "    balances, \n",
        "    initial_conditions, \n",
        "    W,\n",
        "    (0,)\n",
        ")"
      ],
      "execution_count": 0,
      "outputs": []
    },
    {
      "metadata": {
        "id": "ZZhWuInnxUfC",
        "colab_type": "code",
        "colab": {}
      },
      "cell_type": "code",
      "source": [
        "FA = results[:,0]\n",
        "FB = results[:,1]\n",
        "FC = results[:,2]\n",
        "P = results[:,3] * P0\n",
        "X = 1 - FA / FA0\n",
        "\n",
        "FA2 = results2[:,0]\n",
        "FB2 = results2[:,1]\n",
        "FC2 = results2[:,2]\n",
        "P2 = results2[:,3] * P0\n",
        "X2 = 1 - FA2 / FA0"
      ],
      "execution_count": 0,
      "outputs": []
    },
    {
      "metadata": {
        "id": "Vg2eBVjK0Z-Y",
        "colab_type": "code",
        "outputId": "c386aa1b-3db5-49cb-8744-974f62c569cf",
        "colab": {
          "base_uri": "https://localhost:8080/",
          "height": 361
        }
      },
      "cell_type": "code",
      "source": [
        "plt.plot(W, X, W, X2)\n",
        "plt.xlabel('W (kg-cat)')\n",
        "plt.ylabel('X (-)')\n",
        "plt.legend(['alpha = 0.0099 1/kg', 'alpha = 0'])\n",
        "plt.show()"
      ],
      "execution_count": 8,
      "outputs": [
        {
          "output_type": "display_data",
          "data": {
            "image/png": "[encoded data removed]",
            "text/plain": [
              "<matplotlib.figure.Figure at 0x7f5767569860>"
            ]
          },
          "metadata": {
            "tags": []
          }
        }
      ]
    },
    {
      "metadata": {
        "id": "iooMgOG30i5f",
        "colab_type": "code",
        "outputId": "e402783f-c22b-49fa-e241-ee9a294a19ee",
        "colab": {
          "base_uri": "https://localhost:8080/",
          "height": 361
        }
      },
      "cell_type": "code",
      "source": [
        "plt.plot(W, P, W, P2)\n",
        "plt.xlabel('W (kg-cat)')\n",
        "plt.ylabel('P (atm)')\n",
        "plt.legend(['alpha = 0.0099 1/kg', 'alpha = 0'])\n",
        "plt.show()"
      ],
      "execution_count": 9,
      "outputs": [
        {
          "output_type": "display_data",
          "data": {
            "image/png": "[encoded data removed]",
            "text/plain": [
              "<matplotlib.figure.Figure at 0x7f5767579fd0>"
            ]
          },
          "metadata": {
            "tags": []
          }
        }
      ]
    },
    {
      "metadata": {
        "id": "oN4STTzt0qFi",
        "colab_type": "code",
        "colab": {}
      },
      "cell_type": "code",
      "source": [
        ""
      ],
      "execution_count": 0,
      "outputs": []
    }
  ]
}