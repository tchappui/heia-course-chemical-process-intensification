{
  "nbformat": 4,
  "nbformat_minor": 0,
  "metadata": {
    "colab": {
      "name": "S04_Exercise1.ipynb",
      "version": "0.3.2",
      "provenance": [],
      "collapsed_sections": [],
      "include_colab_link": true
    },
    "kernelspec": {
      "name": "python3",
      "display_name": "Python 3"
    }
  },
  "cells": [
    {
      "cell_type": "markdown",
      "metadata": {
        "id": "view-in-github",
        "colab_type": "text"
      },
      "source": [
        "[View in Colaboratory](https://colab.research.google.com/github/tchappui/heia-course-chemical-process-intensification/blob/master/Part1/S04_Exercise1.ipynb)"
      ]
    },
    {
      "metadata": {
        "id": "-Jw4M4ldouTa",
        "colab_type": "text"
      },
      "cell_type": "markdown",
      "source": [
        "# Exercise 1"
      ]
    },
    {
      "metadata": {
        "id": "Rbc_VqbGqcpe",
        "colab_type": "text"
      },
      "cell_type": "markdown",
      "source": [
        "## Import the needed libraries"
      ]
    },
    {
      "metadata": {
        "id": "jOvp-4iWqAcJ",
        "colab_type": "code",
        "colab": {}
      },
      "cell_type": "code",
      "source": [
        "# vectors and linear algebra\n",
        "import numpy as np\n",
        "\n",
        "# visualization tools\n",
        "import matplotlib.pyplot as plt\n",
        "\n",
        "# solvers to integrate ordinary differential equations\n",
        "import scipy.integrate as solvers"
      ],
      "execution_count": 0,
      "outputs": []
    },
    {
      "metadata": {
        "id": "Sp8Jl6-0oytG",
        "colab_type": "text"
      },
      "cell_type": "markdown",
      "source": [
        "## Define the constants"
      ]
    },
    {
      "metadata": {
        "id": "p8aZifHCotWC",
        "colab_type": "code",
        "colab": {}
      },
      "cell_type": "code",
      "source": [
        "k = 0.23 # min-1\n",
        "Vdot = 10 # L/min\n",
        "\n",
        "CA0 = 3 # mol/L\n",
        "\n",
        "FA0 = CA0 * Vdot # mol/min\n",
        "FB0 = 0 # mol/min"
      ],
      "execution_count": 0,
      "outputs": []
    },
    {
      "metadata": {
        "id": "2GjA71KppIWT",
        "colab_type": "text"
      },
      "cell_type": "markdown",
      "source": [
        "## Define the equations to solve"
      ]
    },
    {
      "metadata": {
        "id": "3BOe56lCpG0t",
        "colab_type": "code",
        "colab": {}
      },
      "cell_type": "code",
      "source": [
        "def equations(variables, V, k, Vdot):\n",
        "    FA, FB = variables\n",
        "\n",
        "    CA = FA / Vdot\n",
        "\n",
        "    RA = -k * CA\n",
        "    RB = k * CA\n",
        "\n",
        "    # Mass balances\n",
        "    dFAdV = RA\n",
        "    dFBdV = RB\n",
        "\n",
        "    return dFAdV, dFBdV"
      ],
      "execution_count": 0,
      "outputs": []
    },
    {
      "metadata": {
        "id": "txyiWkCipkIa",
        "colab_type": "text"
      },
      "cell_type": "markdown",
      "source": [
        "## Define the initial conditions and the integration domain"
      ]
    },
    {
      "metadata": {
        "id": "3bdo0QUPpeuz",
        "colab_type": "code",
        "colab": {}
      },
      "cell_type": "code",
      "source": [
        "initial_conditions = [FA0, FB0] \n",
        "V = np.linspace(1, 300, 601)"
      ],
      "execution_count": 0,
      "outputs": []
    },
    {
      "metadata": {
        "id": "fMaWi4utqFw3",
        "colab_type": "text"
      },
      "cell_type": "markdown",
      "source": [
        "## Call the solver to find a solution"
      ]
    },
    {
      "metadata": {
        "id": "7G12ad43p19Z",
        "colab_type": "code",
        "colab": {}
      },
      "cell_type": "code",
      "source": [
        "results = solvers.odeint(equations, initial_conditions, V, (k, Vdot))"
      ],
      "execution_count": 0,
      "outputs": []
    },
    {
      "metadata": {
        "id": "2_8JC1YdrlzS",
        "colab_type": "text"
      },
      "cell_type": "markdown",
      "source": [
        "## Visualization of the results"
      ]
    },
    {
      "metadata": {
        "id": "shglIku_qW2_",
        "colab_type": "code",
        "colab": {
          "base_uri": "https://localhost:8080/",
          "height": 361
        },
        "outputId": "30450952-3300-469b-ce63-836b1ac9b509"
      },
      "cell_type": "code",
      "source": [
        "plt.plot(V, results)\n",
        "plt.xlabel('V (L)')\n",
        "plt.ylabel('$F_{i}$ (mol/min)')\n",
        "plt.legend(['$F_{A}$', '$F_{B}$'])\n",
        "plt.show()"
      ],
      "execution_count": 11,
      "outputs": [
        {
          "output_type": "display_data",
          "data": {
            "image/png": "[encoded data removed]",
            "text/plain": [
              "<matplotlib.figure.Figure at 0x7f7bb0519208>"
            ]
          },
          "metadata": {
            "tags": []
          }
        }
      ]
    },
    {
      "metadata": {
        "id": "VsM7qH_UrxSf",
        "colab_type": "code",
        "colab": {}
      },
      "cell_type": "code",
      "source": [
        ""
      ],
      "execution_count": 0,
      "outputs": []
    }
  ]
}