{
  "nbformat": 4,
  "nbformat_minor": 0,
  "metadata": {
    "colab": {
      "name": "S04_Exercise3.ipynb",
      "version": "0.3.2",
      "provenance": [],
      "collapsed_sections": [],
      "include_colab_link": true
    },
    "kernelspec": {
      "name": "python3",
      "display_name": "Python 3"
    }
  },
  "cells": [
    {
      "cell_type": "markdown",
      "metadata": {
        "id": "view-in-github",
        "colab_type": "text"
      },
      "source": [
        "[View in Colaboratory](https://colab.research.google.com/github/tchappui/heia-course-chemical-process-intensification/blob/master/Part1/S04_Exercise3.ipynb)"
      ]
    },
    {
      "metadata": {
        "id": "-Jw4M4ldouTa",
        "colab_type": "text"
      },
      "cell_type": "markdown",
      "source": [
        "# Exercise 3"
      ]
    },
    {
      "metadata": {
        "id": "Rbc_VqbGqcpe",
        "colab_type": "text"
      },
      "cell_type": "markdown",
      "source": [
        "## Import the needed libraries"
      ]
    },
    {
      "metadata": {
        "id": "jOvp-4iWqAcJ",
        "colab_type": "code",
        "colab": {}
      },
      "cell_type": "code",
      "source": [
        "# vectors and linear algebra\n",
        "import numpy as np\n",
        "\n",
        "# visualization tools\n",
        "import matplotlib.pyplot as plt\n",
        "\n",
        "# solvers to integrate ordinary differential equations\n",
        "import scipy.integrate as solvers"
      ],
      "execution_count": 0,
      "outputs": []
    },
    {
      "metadata": {
        "id": "Sp8Jl6-0oytG",
        "colab_type": "text"
      },
      "cell_type": "markdown",
      "source": [
        "## Define the constants"
      ]
    },
    {
      "metadata": {
        "id": "p8aZifHCotWC",
        "colab_type": "code",
        "colab": {}
      },
      "cell_type": "code",
      "source": [
        "R = 0.0821 # L * atm/mol * K\n",
        "\n",
        "k = 10 # L2/mol2*s\n",
        "Vdot0 = 4 # L/s\n",
        "yA0 = 0.5 # -\n",
        "p0 = 16.4 # atm\n",
        "T0 = 500 # K\n",
        "epsilon = -0.5 # -\n",
        "\n",
        "CA0 = yA0 *  p0 / (R * T0) # mol/L\n",
        "CB0 = CA0 # mol/L\n",
        "CC0 = 0 # mol/L\n",
        "\n",
        "FA0 = CA0 * Vdot0 # mol/L * L/s = mol/s\n",
        "FB0 = CB0 * Vdot0 # mol/L * L/s = mol/s\n",
        "FC0 = 0 # mol/s"
      ],
      "execution_count": 0,
      "outputs": []
    },
    {
      "metadata": {
        "id": "2GjA71KppIWT",
        "colab_type": "text"
      },
      "cell_type": "markdown",
      "source": [
        "## Define the equations to solve"
      ]
    },
    {
      "metadata": {
        "id": "3BOe56lCpG0t",
        "colab_type": "code",
        "colab": {}
      },
      "cell_type": "code",
      "source": [
        "def balances(variables, V, FA0, Vdot0, epsilon, k):\n",
        "    FA, FB, FC = variables\n",
        "    \n",
        "    X = 1 - FA / FA0\n",
        "    Vdot = Vdot0 * (1 + epsilon * X)\n",
        "    \n",
        "    CA = FA / Vdot\n",
        "    CB = FB / Vdot\n",
        "    CC = FC / Vdot\n",
        "\n",
        "    r = k * CA**2 * CB\n",
        "\n",
        "    RA = -2 * r\n",
        "    RB = -r\n",
        "    RC = r\n",
        "\n",
        "    dFA = RA\n",
        "    dFB = RB\n",
        "    dFC = RC\n",
        "\n",
        "    return dFA, dFB, dFC"
      ],
      "execution_count": 0,
      "outputs": []
    },
    {
      "metadata": {
        "id": "txyiWkCipkIa",
        "colab_type": "text"
      },
      "cell_type": "markdown",
      "source": [
        "## Define the initial conditions and the integration domain"
      ]
    },
    {
      "metadata": {
        "id": "3bdo0QUPpeuz",
        "colab_type": "code",
        "colab": {}
      },
      "cell_type": "code",
      "source": [
        "initial_conditions = [FA0, FB0, FC0] # mol/s\n",
        "V = np.arange(0, 250.1, 0.1)"
      ],
      "execution_count": 0,
      "outputs": []
    },
    {
      "metadata": {
        "id": "fMaWi4utqFw3",
        "colab_type": "text"
      },
      "cell_type": "markdown",
      "source": [
        "## Call the solver to find a solution"
      ]
    },
    {
      "metadata": {
        "id": "7G12ad43p19Z",
        "colab_type": "code",
        "colab": {}
      },
      "cell_type": "code",
      "source": [
        "results = solvers.odeint(\n",
        "    balances, \n",
        "    initial_conditions, \n",
        "    V, \n",
        "    (FA0, Vdot0, epsilon, k)\n",
        ")"
      ],
      "execution_count": 0,
      "outputs": []
    },
    {
      "metadata": {
        "id": "hmWU9t_NtJ7p",
        "colab_type": "code",
        "colab": {}
      },
      "cell_type": "code",
      "source": [
        "FA = results[:,0]\n",
        "FB = results[:,1]\n",
        "FC = results[:,2]\n",
        "\n",
        "X = 1 - FA / FA0\n",
        "Vdot = Vdot0 * (1 + epsilon * X)\n",
        "\n",
        "CA = FA / Vdot\n",
        "CB = FB / Vdot\n",
        "CC = FC / Vdot"
      ],
      "execution_count": 0,
      "outputs": []
    },
    {
      "metadata": {
        "id": "2_8JC1YdrlzS",
        "colab_type": "text"
      },
      "cell_type": "markdown",
      "source": [
        "## Visualization of the results"
      ]
    },
    {
      "metadata": {
        "id": "shglIku_qW2_",
        "colab_type": "code",
        "colab": {
          "base_uri": "https://localhost:8080/",
          "height": 361
        },
        "outputId": "b4f2efc2-2bb1-4a90-afd5-4ae05403b8ea"
      },
      "cell_type": "code",
      "source": [
        "plt.plot(V, CA, V, CB, V, CC)\n",
        "plt.xlabel('V (L)')\n",
        "plt.ylabel('$C_{i}$ (mol/L)')\n",
        "plt.legend(['A', 'B', 'C'])\n",
        "plt.show()"
      ],
      "execution_count": 28,
      "outputs": [
        {
          "output_type": "display_data",
          "data": {
            "image/png": "[encoded data removed]",
            "text/plain": [
              "<matplotlib.figure.Figure at 0x7f3ee491a860>"
            ]
          },
          "metadata": {
            "tags": []
          }
        }
      ]
    },
    {
      "metadata": {
        "id": "VsM7qH_UrxSf",
        "colab_type": "code",
        "colab": {}
      },
      "cell_type": "code",
      "source": [
        ""
      ],
      "execution_count": 0,
      "outputs": []
    }
  ]
}