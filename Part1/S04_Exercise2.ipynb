{
  "nbformat": 4,
  "nbformat_minor": 0,
  "metadata": {
    "colab": {
      "name": "S04_Exercise2.ipynb",
      "version": "0.3.2",
      "provenance": [],
      "collapsed_sections": [],
      "include_colab_link": true
    },
    "kernelspec": {
      "name": "python3",
      "display_name": "Python 3"
    }
  },
  "cells": [
    {
      "cell_type": "markdown",
      "metadata": {
        "id": "view-in-github",
        "colab_type": "text"
      },
      "source": [
        "[View in Colaboratory](https://colab.research.google.com/github/tchappui/heia-course-chemical-process-intensification/blob/master/Part1/S04_Exercise2.ipynb)"
      ]
    },
    {
      "metadata": {
        "id": "-Jw4M4ldouTa",
        "colab_type": "text"
      },
      "cell_type": "markdown",
      "source": [
        "# Exercise 2"
      ]
    },
    {
      "metadata": {
        "id": "Rbc_VqbGqcpe",
        "colab_type": "text"
      },
      "cell_type": "markdown",
      "source": [
        "## Import the needed libraries"
      ]
    },
    {
      "metadata": {
        "id": "jOvp-4iWqAcJ",
        "colab_type": "code",
        "colab": {}
      },
      "cell_type": "code",
      "source": [
        "# vectors and linear algebra\n",
        "import numpy as np\n",
        "\n",
        "# visualization tools\n",
        "import matplotlib.pyplot as plt\n",
        "\n",
        "# solvers to integrate ordinary differential equations\n",
        "import scipy.integrate as solvers"
      ],
      "execution_count": 0,
      "outputs": []
    },
    {
      "metadata": {
        "id": "Sp8Jl6-0oytG",
        "colab_type": "text"
      },
      "cell_type": "markdown",
      "source": [
        "## Define the constants"
      ]
    },
    {
      "metadata": {
        "id": "p8aZifHCotWC",
        "colab_type": "code",
        "colab": {}
      },
      "cell_type": "code",
      "source": [
        "k1 = 1.4e-3 # m3/kg-cat*s\n",
        "k2 = 1.46e-3 # m3/kg-cat*s\n",
        "k3 = 7.65e-5 # m3/kg-cat*s\n",
        "\n",
        "Vdot = 0.0025 # m3/s\n",
        "\n",
        "CA0 = 10 # mol/m3 (Benzene)\n",
        "CB0 = 0 # mol/m3 (maleic anhydride)\n",
        "CC0 = 0 # mol/m3 (CO2 produced in consecutive reaction 2)\n",
        "CD0 = 0 # mol/m3 (CO2 produced in consecutive reaction 3)"
      ],
      "execution_count": 0,
      "outputs": []
    },
    {
      "metadata": {
        "id": "2GjA71KppIWT",
        "colab_type": "text"
      },
      "cell_type": "markdown",
      "source": [
        "## Define the equations to solve"
      ]
    },
    {
      "metadata": {
        "id": "3BOe56lCpG0t",
        "colab_type": "code",
        "colab": {}
      },
      "cell_type": "code",
      "source": [
        "def equations(variables, W, k1, k2, k3, Vdot):\n",
        "    CA, CB, CC, CD = variables\n",
        "\n",
        "    r1 = k1 * CA\n",
        "    r2 = k2 * CB\n",
        "    r3 = k3 * CA\n",
        "\n",
        "    RA = -r1 - r3\n",
        "    RB = r1 - r2\n",
        "    RC = 4 *r2\n",
        "    RD = 6 * r3\n",
        "\n",
        "    dCA = RA / Vdot\n",
        "    dCB = RB / Vdot\n",
        "    dCC = RC / Vdot\n",
        "    dCD = RD / Vdot\n",
        "\n",
        "    return dCA, dCB, dCC, dCD"
      ],
      "execution_count": 0,
      "outputs": []
    },
    {
      "metadata": {
        "id": "txyiWkCipkIa",
        "colab_type": "text"
      },
      "cell_type": "markdown",
      "source": [
        "## Define the initial conditions and the integration domain"
      ]
    },
    {
      "metadata": {
        "id": "3bdo0QUPpeuz",
        "colab_type": "code",
        "colab": {}
      },
      "cell_type": "code",
      "source": [
        "initial_conditions = [CA0, CB0, CC0, CD0] \n",
        "W = np.linspace(1, 10, 1001)"
      ],
      "execution_count": 0,
      "outputs": []
    },
    {
      "metadata": {
        "id": "fMaWi4utqFw3",
        "colab_type": "text"
      },
      "cell_type": "markdown",
      "source": [
        "## Call the solver to find a solution"
      ]
    },
    {
      "metadata": {
        "id": "7G12ad43p19Z",
        "colab_type": "code",
        "colab": {}
      },
      "cell_type": "code",
      "source": [
        "results = solvers.odeint(equations, initial_conditions, W, (k1, k2, k3, Vdot))"
      ],
      "execution_count": 0,
      "outputs": []
    },
    {
      "metadata": {
        "id": "2_8JC1YdrlzS",
        "colab_type": "text"
      },
      "cell_type": "markdown",
      "source": [
        "## Visualization of the results"
      ]
    },
    {
      "metadata": {
        "id": "shglIku_qW2_",
        "colab_type": "code",
        "colab": {
          "base_uri": "https://localhost:8080/",
          "height": 361
        },
        "outputId": "5a9c928f-2c61-48bf-a449-2d6822ba3868"
      },
      "cell_type": "code",
      "source": [
        "plt.plot(W, results)\n",
        "plt.xlabel('W (kg-cat)')\n",
        "plt.ylabel('$C_{i}$ (mol/m3)')\n",
        "plt.legend(['A', 'B', 'C', 'D'])\n",
        "plt.show()"
      ],
      "execution_count": 7,
      "outputs": [
        {
          "output_type": "display_data",
          "data": {
            "image/png": "[encoded data removed]",
            "text/plain": [
              "<matplotlib.figure.Figure at 0x7fdf1559e5f8>"
            ]
          },
          "metadata": {
            "tags": []
          }
        }
      ]
    },
    {
      "metadata": {
        "id": "VsM7qH_UrxSf",
        "colab_type": "code",
        "colab": {}
      },
      "cell_type": "code",
      "source": [
        ""
      ],
      "execution_count": 0,
      "outputs": []
    }
  ]
}